{
  "nbformat": 4,
  "nbformat_minor": 0,
  "metadata": {
    "colab": {
      "name": "HW5.ipynb",
      "provenance": [],
      "collapsed_sections": []
    },
    "kernelspec": {
      "name": "python3",
      "display_name": "Python 3"
    },
    "language_info": {
      "name": "python"
    },
    "accelerator": "GPU"
  },
  "cells": [
    {
      "cell_type": "code",
      "metadata": {
        "id": "2UbjjaGQx37H"
      },
      "source": [
        "import numpy as np\n",
        "import pandas as pd\n",
        "import matplotlib.pyplot as plt\n",
        "import torch"
      ],
      "execution_count": 38,
      "outputs": []
    },
    {
      "cell_type": "markdown",
      "metadata": {
        "id": "MENS9xm2sin0"
      },
      "source": [
        "##Load in Data"
      ]
    },
    {
      "cell_type": "code",
      "metadata": {
        "id": "upE6YLdpyBC7"
      },
      "source": [
        "df_test = pd.read_csv('./sample_data/mnist_test.csv')\n",
        "df_train = pd.read_csv('./sample_data/mnist_train_small.csv')"
      ],
      "execution_count": 39,
      "outputs": []
    },
    {
      "cell_type": "markdown",
      "metadata": {
        "id": "VDOgxkaEsp7v"
      },
      "source": [
        "##Create Digits Dataset Class"
      ]
    },
    {
      "cell_type": "code",
      "metadata": {
        "id": "OX6FWb5wyRyd"
      },
      "source": [
        "class DigitsDataset(torch.utils.data.Dataset):\n",
        "\n",
        "  def __init__(self, df):\n",
        "    self.df = df\n",
        "\n",
        "  def __len__(self):\n",
        "    return len(self.df)\n",
        "\n",
        "  def __getitem__(self, idx):\n",
        "    row = self.df.iloc[idx]\n",
        "\n",
        "    x = np.float32(row[1:].values) / 255    \n",
        "    y = row[0]\n",
        "\n",
        "    return x,y"
      ],
      "execution_count": 40,
      "outputs": []
    },
    {
      "cell_type": "markdown",
      "metadata": {
        "id": "Y1tFYZW9s3jg"
      },
      "source": [
        "##Batch the Data"
      ]
    },
    {
      "cell_type": "code",
      "metadata": {
        "id": "dipzqc5Wzp2p"
      },
      "source": [
        "def createBatches(batch_size):\n",
        "  dataset_train = DigitsDataset(df_train)\n",
        "  dataset_test = DigitsDataset(df_test)\n",
        "\n",
        "  dataloader_train = torch.utils.data.DataLoader(dataset_train, batch_size = batch_size, shuffle = True)\n",
        "  dataloader_test = torch.utils.data.DataLoader(dataset_test, batch_size = batch_size, shuffle = True)\n",
        "\n",
        "  return dataset_train, dataset_test, dataloader_train, dataloader_test\n",
        "\n",
        "\n"
      ],
      "execution_count": 41,
      "outputs": []
    },
    {
      "cell_type": "markdown",
      "metadata": {
        "id": "TVDRNjpLoFZa"
      },
      "source": [
        "##Predict"
      ]
    },
    {
      "cell_type": "code",
      "metadata": {
        "id": "zWgO5IV7oIeo"
      },
      "source": [
        "def predict(dataloader_test, dataset_test):\n",
        "  device = torch.device('cuda')\n",
        "  num_correct = 0\n",
        "  model1.eval()\n",
        "  N_test = len(dataset_test)\n",
        "\n",
        "  for X_batch, Y_batch in dataloader_test:\n",
        "\n",
        "    X_batch = X_batch.to(device)\n",
        "    Y_batch = Y_batch.to(device)\n",
        "\n",
        "    with torch.no_grad():\n",
        "\n",
        "      outputs = model1(X_batch)\n",
        "      num_correct += sum(torch.argmax(outputs, axis = 1) == Y_batch)\n",
        "\n",
        "  print('Accuracy: ', num_correct / N_test)"
      ],
      "execution_count": 42,
      "outputs": []
    },
    {
      "cell_type": "markdown",
      "metadata": {
        "id": "ivllHQ9IoKgN"
      },
      "source": [
        "##Graph"
      ]
    },
    {
      "cell_type": "code",
      "metadata": {
        "id": "ApmTzXMqoNG0"
      },
      "source": [
        "def graph(train_losses, test_losses):\n",
        "  plt.plot(train_losses, label = 'training loss')\n",
        "  plt.plot(test_losses, label = 'test loss')\n",
        "  plt.legend(loc = 'upper right')\n",
        "  plt.title('Objective function value versus epoch')"
      ],
      "execution_count": 43,
      "outputs": []
    },
    {
      "cell_type": "markdown",
      "metadata": {
        "id": "6N6kvergfx0r"
      },
      "source": [
        "#Neural Network"
      ]
    },
    {
      "cell_type": "code",
      "metadata": {
        "id": "-MdnGAmC0kJV"
      },
      "source": [
        "class SimpleNeuralNetwork(torch.nn.Module):\n",
        "\n",
        "  def __init__(self):\n",
        "\n",
        "    super().__init__()\n",
        "\n",
        "    self.dense1 = torch.nn.Linear(784, 100)\n",
        "    self.dense2 = torch.nn.Linear(100,10)          \n",
        "\n",
        "    self.ReLU = torch.nn.ReLU()\n",
        "\n",
        "  def forward(self, x):\n",
        "\n",
        "    x = self.dense1(x)   \n",
        "    x = self.ReLU(x)\n",
        "    x = self.dense2(x)  \n",
        "\n",
        "    return x"
      ],
      "execution_count": 44,
      "outputs": []
    },
    {
      "cell_type": "code",
      "metadata": {
        "id": "FFllDABM5Gux"
      },
      "source": [
        "def myModel(epochs, lrate, batch):\n",
        "  dataset_train, dataset_test, dataloader_train, dataloader_test = createBatches(batch)\n",
        "\n",
        "  model = SimpleNeuralNetwork()\n",
        "  device = torch.device('cuda')\n",
        "  model = model.to(device)\n",
        "\n",
        "  loss_fun = torch.nn.CrossEntropyLoss()\n",
        "  optimizer = torch.optim.Adam(model.parameters(), lr = lrate)  \n",
        "\n",
        "  num_epochs = epochs\n",
        "  N_train = len(dataset_train)\n",
        "  N_test = len(dataset_test)\n",
        "\n",
        "  train_losses = []\n",
        "  test_losses = []\n",
        "\n",
        "  for ep in range(num_epochs):\n",
        "\n",
        "    model.train()\n",
        "    train_loss = 0.0\n",
        "    batch_idx = 0\n",
        "\n",
        "    for X_batch, Y_batch in dataloader_train:\n",
        "\n",
        "      X_batch = X_batch.to(device)\n",
        "      Y_batch = Y_batch.to(device)\n",
        "\n",
        "      N_batch = X_batch.shape[0]  \n",
        "      outputs = model(X_batch)\n",
        "      loss_oneBatch = loss_fun(outputs, Y_batch)\n",
        "\n",
        "      model.zero_grad()\n",
        "      loss_oneBatch.backward()\n",
        "      optimizer.step()\n",
        "\n",
        "      train_loss += loss_oneBatch * N_batch\n",
        "\n",
        "    model.eval()\n",
        "    test_loss = 0.0\n",
        "    for X_batch, Y_batch in dataloader_test:\n",
        "\n",
        "      X_batch = X_batch.to(device)\n",
        "      Y_batch = Y_batch.to(device)\n",
        "\n",
        "      with torch.no_grad():\n",
        "        N_batch = X_batch.shape[0]\n",
        "        outputs = model(X_batch)\n",
        "        loss_oneBatch = loss_fun(outputs, Y_batch)\n",
        "        test_loss += loss_oneBatch * N_batch\n",
        "\n",
        "    train_losses.append(train_loss / N_train)\n",
        "    test_losses.append(test_loss / N_test)\n",
        "\n",
        "    print('epoch: ', ep, ' train loss: ', (train_loss), ' test loss: ', (test_loss))\n",
        "\n",
        "  return model, train_losses, test_losses"
      ],
      "execution_count": 45,
      "outputs": []
    },
    {
      "cell_type": "markdown",
      "metadata": {
        "id": "eUN21D7hgmpp"
      },
      "source": [
        "#Logistic Regression"
      ]
    },
    {
      "cell_type": "code",
      "metadata": {
        "id": "DQKCmkRWgqiN"
      },
      "source": [
        "class MLR(torch.nn.Module):\n",
        "\n",
        "  def __init__(self):\n",
        "\n",
        "    super().__init__()\n",
        "    self.linear = torch.nn.Linear(784, 10)\n",
        "\n",
        "  def forward(self, x):\n",
        "    outputs = self.linear(x)\n",
        "    return outputs"
      ],
      "execution_count": 46,
      "outputs": []
    },
    {
      "cell_type": "code",
      "metadata": {
        "id": "8ysPTDGhhifp"
      },
      "source": [
        "def myModel2(epochs, lrate, batch):  \n",
        "\n",
        "  dataset_train, dataset_test, dataloader_train, dataloader_test = createBatches(batch)\n",
        "  logRegModel = MLR()\n",
        "  device = torch.device('cuda')\n",
        "  logRegModel = logRegModel.to(device)\n",
        "\n",
        "  loss_fun = torch.nn.CrossEntropyLoss()\n",
        "  optimizer = torch.optim.Adam(logRegModel.parameters(), lr = lrate)\n",
        "\n",
        "  num_epochs = epochs\n",
        "  N_train = len(dataset_train)\n",
        "  N_test = len(dataset_test)\n",
        "\n",
        "  train_losses = []\n",
        "  test_losses = []\n",
        "\n",
        "  for ep in range(num_epochs):\n",
        "\n",
        "    logRegModel.train()\n",
        "    train_loss = 0.0\n",
        "    batch_idx = 0\n",
        "\n",
        "    for X_batch, Y_batch in dataloader_train:\n",
        "\n",
        "      X_batch = X_batch.to(device)\n",
        "      Y_batch = Y_batch.to(device)\n",
        "\n",
        "      N_batch = X_batch.shape[0]  \n",
        "      outputs = logRegModel(X_batch)\n",
        "      loss_oneBatch = loss_fun(outputs, Y_batch)\n",
        "\n",
        "      logRegModel.zero_grad()\n",
        "      loss_oneBatch.backward()\n",
        "      optimizer.step()\n",
        "\n",
        "      train_loss += loss_oneBatch * N_batch\n",
        "\n",
        "    logRegModel.eval()\n",
        "    test_loss = 0.0\n",
        "    for X_batch, Y_batch in dataloader_test:\n",
        "      \n",
        "      X_batch = X_batch.to(device)\n",
        "      Y_batch = Y_batch.to(device)\n",
        "\n",
        "      with torch.no_grad():\n",
        "        N_batch = X_batch.shape[0]\n",
        "        outputs = logRegModel(X_batch)\n",
        "        loss_oneBatch = loss_fun(outputs, Y_batch)\n",
        "        test_loss += loss_oneBatch * N_batch\n",
        "\n",
        "    train_losses.append(train_loss / N_train)\n",
        "    test_losses.append(test_loss / N_test)\n",
        "\n",
        "    print('epoch: ', ep, ' train loss: ', (train_loss), ' test loss: ', (test_loss))\n",
        "\n",
        "  return logRegModel, train_losses, test_losses\n",
        "\n"
      ],
      "execution_count": 47,
      "outputs": []
    },
    {
      "cell_type": "markdown",
      "metadata": {
        "id": "jlRFAkDHfodP"
      },
      "source": [
        "#Main"
      ]
    },
    {
      "cell_type": "markdown",
      "metadata": {
        "id": "BDDWBK2Mo4jg"
      },
      "source": [
        "- in the main, comment out either graph() function to view the graph of the other.\n",
        "- if not, the losses of both models will be plotted in the same graph. "
      ]
    },
    {
      "cell_type": "code",
      "metadata": {
        "id": "UYd8bBjokrAa"
      },
      "source": [
        "def main():\n",
        "  dataset_train, dataset_test, dataloader_train, dataloader_test = createBatches(64)\n",
        "\n",
        "  print('Training neural network...')\n",
        "  nn, train_losses, test_losses = myModel(5, 0.001, 64)\n",
        "  print('Done Training!')\n",
        "  print('Predicting...')\n",
        "  predict(dataloader_test, dataset_test)  \n",
        "  print()\n",
        "  graph(train_losses, test_losses)\n",
        "\n",
        "  print('-------------')\n",
        "\n",
        "  print('Training multiclass logistic regression...')\n",
        "  logRegModel, train_losses, test_losses = myModel2(5, 0.001, 64)\n",
        "  print('Done Training!')\n",
        "  print('Predicting...')\n",
        "  predict(dataloader_test, dataset_test)  \n",
        "  print()\n",
        "  graph(train_losses, test_losses)\n",
        "\n",
        "  "
      ],
      "execution_count": 48,
      "outputs": []
    },
    {
      "cell_type": "code",
      "metadata": {
        "colab": {
          "base_uri": "https://localhost:8080/",
          "height": 638
        },
        "id": "aSkLxnP5lx3-",
        "outputId": "c4886e8e-7e5a-4310-8e47-670075a400e6"
      },
      "source": [
        "main()"
      ],
      "execution_count": 49,
      "outputs": [
        {
          "output_type": "stream",
          "text": [
            "Training neural network...\n",
            "epoch:  0  train loss:  tensor(11335.0840, device='cuda:0', grad_fn=<AddBackward0>)  test loss:  tensor(3023.0972, device='cuda:0')\n",
            "epoch:  1  train loss:  tensor(5440.3647, device='cuda:0', grad_fn=<AddBackward0>)  test loss:  tensor(2569.0444, device='cuda:0')\n",
            "epoch:  2  train loss:  tensor(4290.4639, device='cuda:0', grad_fn=<AddBackward0>)  test loss:  tensor(2064.1633, device='cuda:0')\n",
            "epoch:  3  train loss:  tensor(3502.2192, device='cuda:0', grad_fn=<AddBackward0>)  test loss:  tensor(1788.1624, device='cuda:0')\n",
            "epoch:  4  train loss:  tensor(2902.1897, device='cuda:0', grad_fn=<AddBackward0>)  test loss:  tensor(1656.2230, device='cuda:0')\n",
            "Done Training!\n",
            "Predicting...\n",
            "Accuracy:  tensor(0.9653, device='cuda:0')\n",
            "\n",
            "-------------\n",
            "Training multiclass logistic regression...\n",
            "epoch:  0  train loss:  tensor(16454.1152, device='cuda:0', grad_fn=<AddBackward0>)  test loss:  tensor(4662.6504, device='cuda:0')\n",
            "epoch:  1  train loss:  tensor(8387.6787, device='cuda:0', grad_fn=<AddBackward0>)  test loss:  tensor(3693.9343, device='cuda:0')\n",
            "epoch:  2  train loss:  tensor(7087.3599, device='cuda:0', grad_fn=<AddBackward0>)  test loss:  tensor(3339.8313, device='cuda:0')\n",
            "epoch:  3  train loss:  tensor(6480.7603, device='cuda:0', grad_fn=<AddBackward0>)  test loss:  tensor(3175.6538, device='cuda:0')\n",
            "epoch:  4  train loss:  tensor(6113.4648, device='cuda:0', grad_fn=<AddBackward0>)  test loss:  tensor(3056.7495, device='cuda:0')\n",
            "Done Training!\n",
            "Predicting...\n",
            "Accuracy:  tensor(0.9653, device='cuda:0')\n",
            "\n"
          ],
          "name": "stdout"
        },
        {
          "output_type": "display_data",
          "data": {
            "image/png": "[encoded data removed]",
            "text/plain": [
              "<Figure size 432x288 with 1 Axes>"
            ]
          },
          "metadata": {
            "tags": [],
            "needs_background": "light"
          }
        }
      ]
    },
    {
      "cell_type": "code",
      "metadata": {
        "id": "tixjEbHuly1-"
      },
      "source": [
        ""
      ],
      "execution_count": 49,
      "outputs": []
    }
  ]
}